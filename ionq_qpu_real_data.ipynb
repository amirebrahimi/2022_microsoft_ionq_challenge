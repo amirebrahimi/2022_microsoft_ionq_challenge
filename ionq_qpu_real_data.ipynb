{
 "cells": [
  {
   "cell_type": "markdown",
   "id": "9bae22ff-7760-4d13-b18e-70992247dcf8",
   "metadata": {},
   "source": [
    "# State distillation circuit run on IonQ QPU\n",
    "\n",
    "Job id d8416170-818b-11ec-9bbb-00155def4305  \n",
    "Job Status: job has successfully run  \n",
    "\n",
    "```\n",
    "Result(backend_name='ionq.qpu', backend_version='1', qobj_id='circuit-0', job_id='d8416170-818b-11ec-9bbb-00155def4305', success=True, results=[ExperimentResult(shots=8192, success=True, meas_level=2, data=ExperimentResultData(counts={'00000': 223, '00001': 235, '00010': 208, '00011': 380, '00100': 78, '00101': 223, '00110': 91, '00111': 312, '01000': 347, '01001': 124, '01010': 317, '01011': 96, '01100': 181, '01101': 86, '01110': 242, '01111': 228, '10000': 270, '10001': 1063, '10010': 319, '10011': 174, '10100': 107, '10101': 372, '10110': 168, '10111': 251, '11000': 438, '11001': 146, '11010': 232, '11011': 81, '11100': 186, '11101': 142, '11110': 391, '11111': 481}, probabilities={'00000': 0.0272216796875, '00001': 0.0286865234375, '00010': 0.025390625, '00011': 0.04638671875, '00100': 0.009521484375, '00101': 0.0272216796875, '00110': 0.0111083984375, '00111': 0.0380859375, '01000': 0.0423583984375, '01001': 0.01513671875, '01010': 0.0386962890625, '01011': 0.01171875, '01100': 0.0220947265625, '01101': 0.010498046875, '01110': 0.029541015625, '01111': 0.02783203125, '10000': 0.032958984375, '10001': 0.1297607421875, '10010': 0.0389404296875, '10011': 0.021240234375, '10100': 0.0130615234375, '10101': 0.04541015625, '10110': 0.0205078125, '10111': 0.0306396484375, '11000': 0.053466796875, '11001': 0.017822265625, '11010': 0.0283203125, '11011': 0.0098876953125, '11100': 0.022705078125, '11101': 0.017333984375, '11110': 0.0477294921875, '11111': 0.0587158203125}), header=QobjExperimentHeader(meas_map='[0, 1, 2, 3, 4]', name='circuit-0', num_qubits='5', qiskit='True'))])\n",
    "```"
   ]
  },
  {
   "cell_type": "code",
   "execution_count": null,
   "id": "c088fb76-2fcd-4aaa-bc43-5ce4a3f72013",
   "metadata": {},
   "outputs": [],
   "source": []
  }
 ],
 "metadata": {
  "kernelspec": {
   "display_name": "Python 3",
   "language": "python",
   "name": "python3"
  },
  "language_info": {
   "codemirror_mode": {
    "name": "ipython",
    "version": 3
   },
   "file_extension": ".py",
   "mimetype": "text/x-python",
   "name": "python",
   "nbconvert_exporter": "python",
   "pygments_lexer": "ipython3",
   "version": "3.9.2"
  }
 },
 "nbformat": 4,
 "nbformat_minor": 5
}
