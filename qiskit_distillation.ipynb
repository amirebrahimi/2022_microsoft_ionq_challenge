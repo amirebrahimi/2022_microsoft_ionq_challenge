{
 "cells": [
  {
   "cell_type": "code",
   "execution_count": 1,
   "id": "d4c8ca45-bb84-4549-8592-4afba837c75f",
   "metadata": {},
   "outputs": [],
   "source": [
    "%load_ext autoreload\n",
    "%autoreload 2"
   ]
  },
  {
   "cell_type": "code",
   "execution_count": 2,
   "id": "8fc4390c-6fee-4c79-89b4-b39010c83372",
   "metadata": {},
   "outputs": [],
   "source": [
    "from qiskit import execute, Aer, QuantumCircuit, QuantumRegister"
   ]
  },
  {
   "cell_type": "code",
   "execution_count": 3,
   "id": "11d940d5-ca48-4e50-8296-d89b37a5d451",
   "metadata": {},
   "outputs": [],
   "source": [
    "qc = QuantumCircuit(5)\n"
   ]
  },
  {
   "cell_type": "code",
   "execution_count": null,
   "id": "2d4c3181-4147-4069-949b-a49cde56eba5",
   "metadata": {},
   "outputs": [],
   "source": []
  }
 ],
 "metadata": {
  "kernelspec": {
   "display_name": "Python 3",
   "language": "python",
   "name": "python3"
  },
  "language_info": {
   "codemirror_mode": {
    "name": "ipython",
    "version": 3
   },
   "file_extension": ".py",
   "mimetype": "text/x-python",
   "name": "python",
   "nbconvert_exporter": "python",
   "pygments_lexer": "ipython3",
   "version": "3.9.2"
  }
 },
 "nbformat": 4,
 "nbformat_minor": 5
}
