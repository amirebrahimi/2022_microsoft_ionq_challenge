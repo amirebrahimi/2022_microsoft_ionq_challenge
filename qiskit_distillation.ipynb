{
 "cells": [
  {
   "cell_type": "code",
   "execution_count": 1,
   "id": "d4c8ca45-bb84-4549-8592-4afba837c75f",
   "metadata": {},
   "outputs": [],
   "source": [
    "%load_ext autoreload\n",
    "%autoreload 2"
   ]
  },
  {
   "cell_type": "code",
   "execution_count": 102,
   "id": "8fc4390c-6fee-4c79-89b4-b39010c83372",
   "metadata": {},
   "outputs": [],
   "source": [
    "from qiskit import execute, Aer, QuantumCircuit, QuantumRegister, ClassicalRegister\n",
    "from qiskit.providers.aer import StatevectorSimulator, QasmSimulator, UnitarySimulator\n",
    "import numpy as np"
   ]
  },
  {
   "cell_type": "code",
   "execution_count": 103,
   "id": "9f2b2501-e7aa-4758-82bf-c84c1a55e938",
   "metadata": {},
   "outputs": [
    {
     "data": {
      "text/plain": [
       "[(0.8880738339771153-0j), (0.3250575836718681+0.32505758367186804j)]"
      ]
     },
     "execution_count": 103,
     "metadata": {},
     "output_type": "execute_result"
    }
   ],
   "source": [
    "beta = 0.5 * acos(1/sqrt(3))\n",
    "T0 = [np.cos(beta), np.exp(1j*np.pi/4)*np.sin(beta)]\n",
    "T0"
   ]
  },
  {
   "cell_type": "code",
   "execution_count": 72,
   "id": "493635d7-16c2-45bc-9233-83bae550dfae",
   "metadata": {},
   "outputs": [
    {
     "data": {
      "text/html": [
       "<pre style=\"word-wrap: normal;white-space: pre;background: #fff0;line-height: 1.1;font-family: &quot;Courier New&quot;,Courier,monospace\">global phase: π/8\n",
       "          ┌─────────────┐┌─────────┐\n",
       "q_0: ─|0>─┤ Ry(0.95532) ├┤ Rz(π/4) ├\n",
       "          └─────────────┘└─────────┘</pre>"
      ],
      "text/plain": [
       "global phase: π/8\n",
       "          ┌─────────────┐┌─────────┐\n",
       "q_0: ─|0>─┤ Ry(0.95532) ├┤ Rz(π/4) ├\n",
       "          └─────────────┘└─────────┘"
      ]
     },
     "execution_count": 72,
     "metadata": {},
     "output_type": "execute_result"
    }
   ],
   "source": [
    "qc = QuantumCircuit(1)\n",
    "qc.initialize(T0)\n",
    "qc.decompose().decompose().decompose().draw()"
   ]
  },
  {
   "cell_type": "code",
   "execution_count": 140,
   "id": "0356068f-cceb-4e10-a6c4-0c4a833fdc0e",
   "metadata": {},
   "outputs": [
    {
     "data": {
      "text/html": [
       "<pre style=\"word-wrap: normal;white-space: pre;background: #fff0;line-height: 1.1;font-family: &quot;Courier New&quot;,Courier,monospace\">     ┌───┐┌─────┐┌───┐┌───┐┌─┐\n",
       "q_0: ┤ H ├┤ Tdg ├┤ T ├┤ H ├┤M├\n",
       "     └───┘└─────┘└───┘└───┘└╥┘\n",
       "c: 1/═══════════════════════╩═\n",
       "                            0 </pre>"
      ],
      "text/plain": [
       "     ┌───┐┌─────┐┌───┐┌───┐┌─┐\n",
       "q_0: ┤ H ├┤ Tdg ├┤ T ├┤ H ├┤M├\n",
       "     └───┘└─────┘└───┘└───┘└╥┘\n",
       "c: 1/═══════════════════════╩═\n",
       "                            0 "
      ]
     },
     "execution_count": 140,
     "metadata": {},
     "output_type": "execute_result"
    }
   ],
   "source": [
    "qc = QuantumCircuit(1, 1)\n",
    "qc.h(0)\n",
    "qc.tdg(0)\n",
    "qc.t(0) # use magic state\n",
    "qc.h(0)\n",
    "qc.measure(0, 0)\n",
    "qc.draw()"
   ]
  },
  {
   "cell_type": "code",
   "execution_count": 149,
   "id": "38519f25-6478-43b7-b334-6c2a5b31b5da",
   "metadata": {},
   "outputs": [
    {
     "name": "stdout",
     "output_type": "stream",
     "text": [
      "[0.70710678+0.j  0.5       +0.5j]\n"
     ]
    }
   ],
   "source": [
    "qc = QuantumCircuit(1, 1)\n",
    "qc.h(0)\n",
    "qc.t(0)\n",
    "backend = StatevectorSimulator()\n",
    "results = backend.run(qc).result()\n",
    "print(results.get_statevector())"
   ]
  },
  {
   "cell_type": "code",
   "execution_count": 165,
   "id": "4badab69-4249-44dc-bfe7-bfb0861e0b29",
   "metadata": {},
   "outputs": [
    {
     "name": "stdout",
     "output_type": "stream",
     "text": [
      "['01', '01', '01', '01', '01', '01', '01', '01', '01', '01']\n"
     ]
    }
   ],
   "source": [
    "qc = QuantumCircuit(2, 2)\n",
    "qc.x(0)\n",
    "qc.measure(range(2), range(2))\n",
    "backend = QasmSimulator()\n",
    "results = backend.run(qc, shots=10, memory=True).result()\n",
    "print(results.get_memory())"
   ]
  },
  {
   "cell_type": "code",
   "execution_count": 173,
   "id": "11d940d5-ca48-4e50-8296-d89b37a5d451",
   "metadata": {},
   "outputs": [
    {
     "data": {
      "text/html": [
       "<pre style=\"word-wrap: normal;white-space: pre;background: #fff0;line-height: 1.1;font-family: &quot;Courier New&quot;,Courier,monospace\">     ┌─────────────┐┌─────────┐          ░             ░             ░         »\n",
       "q_0: ┤ Ry(0.95532) ├┤ Rz(π/4) ├─■────────░──■──────────░──■──────────░──■──────»\n",
       "     ├─────────────┤├─────────┤ │        ░  │          ░  │          ░  │      »\n",
       "q_1: ┤ Ry(0.95532) ├┤ Rz(π/4) ├─┼──■─────░──┼──────────░──┼──────────░──■───■──»\n",
       "     ├─────────────┤├─────────┤ │  │     ░  │          ░  │          ░      │  »\n",
       "q_2: ┤ Ry(0.95532) ├┤ Rz(π/4) ├─┼──┼──■──░──┼──■───────░──■──■───■───░──────┼──»\n",
       "     ├─────────────┤├─────────┤ │  │  │  ░  │  │       ░     │   │   ░      │  »\n",
       "q_3: ┤ Ry(0.95532) ├┤ Rz(π/4) ├─┼──┼──┼──░──■──■───■───░─────■───┼───░──────┼──»\n",
       "     ├─────────────┤├─────────┤ │  │  │  ░       ┌─┴─┐ ░       ┌─┴─┐ ░    ┌─┴─┐»\n",
       "q_4: ┤ Ry(0.95532) ├┤ Rz(π/4) ├─■──■──■──░───────┤ Y ├─░───────┤ Y ├─░────┤ Y ├»\n",
       "     └─────────────┘└─────────┘          ░       └───┘ ░       └───┘ ░    └───┘»\n",
       "c: 5/══════════════════════════════════════════════════════════════════════════»\n",
       "                                                                               »\n",
       "«      ░          ░ ┌───┐ ░ ┌─┐            \n",
       "«q_0: ─░──■───■───░─┤ H ├─░─┤M├────────────\n",
       "«      ░  │   │   ░ ├───┤ ░ └╥┘┌─┐         \n",
       "«q_1: ─░──┼───┼───░─┤ H ├─░──╫─┤M├─────────\n",
       "«      ░  │   │   ░ ├───┤ ░  ║ └╥┘┌─┐      \n",
       "«q_2: ─░──┼───┼───░─┤ H ├─░──╫──╫─┤M├──────\n",
       "«      ░  │   │   ░ ├───┤ ░  ║  ║ └╥┘┌─┐   \n",
       "«q_3: ─░──■───┼───░─┤ H ├─░──╫──╫──╫─┤M├───\n",
       "«      ░    ┌─┴─┐ ░ ├───┤ ░  ║  ║  ║ └╥┘ ░ \n",
       "«q_4: ─░────┤ X ├─░─┤ Z ├─░──╫──╫──╫──╫──░─\n",
       "«      ░    └───┘ ░ └───┘ ░  ║  ║  ║  ║  ░ \n",
       "«c: 5/═══════════════════════╩══╩══╩══╩════\n",
       "«                            0  1  2  3    </pre>"
      ],
      "text/plain": [
       "     ┌─────────────┐┌─────────┐          ░             ░             ░         »\n",
       "q_0: ┤ Ry(0.95532) ├┤ Rz(π/4) ├─■────────░──■──────────░──■──────────░──■──────»\n",
       "     ├─────────────┤├─────────┤ │        ░  │          ░  │          ░  │      »\n",
       "q_1: ┤ Ry(0.95532) ├┤ Rz(π/4) ├─┼──■─────░──┼──────────░──┼──────────░──■───■──»\n",
       "     ├─────────────┤├─────────┤ │  │     ░  │          ░  │          ░      │  »\n",
       "q_2: ┤ Ry(0.95532) ├┤ Rz(π/4) ├─┼──┼──■──░──┼──■───────░──■──■───■───░──────┼──»\n",
       "     ├─────────────┤├─────────┤ │  │  │  ░  │  │       ░     │   │   ░      │  »\n",
       "q_3: ┤ Ry(0.95532) ├┤ Rz(π/4) ├─┼──┼──┼──░──■──■───■───░─────■───┼───░──────┼──»\n",
       "     ├─────────────┤├─────────┤ │  │  │  ░       ┌─┴─┐ ░       ┌─┴─┐ ░    ┌─┴─┐»\n",
       "q_4: ┤ Ry(0.95532) ├┤ Rz(π/4) ├─■──■──■──░───────┤ Y ├─░───────┤ Y ├─░────┤ Y ├»\n",
       "     └─────────────┘└─────────┘          ░       └───┘ ░       └───┘ ░    └───┘»\n",
       "c: 5/══════════════════════════════════════════════════════════════════════════»\n",
       "                                                                               »\n",
       "«      ░          ░ ┌───┐ ░ ┌─┐            \n",
       "«q_0: ─░──■───■───░─┤ H ├─░─┤M├────────────\n",
       "«      ░  │   │   ░ ├───┤ ░ └╥┘┌─┐         \n",
       "«q_1: ─░──┼───┼───░─┤ H ├─░──╫─┤M├─────────\n",
       "«      ░  │   │   ░ ├───┤ ░  ║ └╥┘┌─┐      \n",
       "«q_2: ─░──┼───┼───░─┤ H ├─░──╫──╫─┤M├──────\n",
       "«      ░  │   │   ░ ├───┤ ░  ║  ║ └╥┘┌─┐   \n",
       "«q_3: ─░──■───┼───░─┤ H ├─░──╫──╫──╫─┤M├───\n",
       "«      ░    ┌─┴─┐ ░ ├───┤ ░  ║  ║  ║ └╥┘ ░ \n",
       "«q_4: ─░────┤ X ├─░─┤ Z ├─░──╫──╫──╫──╫──░─\n",
       "«      ░    └───┘ ░ └───┘ ░  ║  ║  ║  ║  ░ \n",
       "«c: 5/═══════════════════════╩══╩══╩══╩════\n",
       "«                            0  1  2  3    "
      ]
     },
     "execution_count": 173,
     "metadata": {},
     "output_type": "execute_result"
    }
   ],
   "source": [
    "def get_magic_state_circuit():\n",
    "    N = 5\n",
    "    qc = QuantumCircuit(N, N)\n",
    "    for i in range(N):\n",
    "        qc.ry(0.95532, i)\n",
    "        qc.rz(pi/4, i)\n",
    "    #     qc.initialize(T0,qubits=i)\n",
    "    qc.cz(4, range(3))\n",
    "    qc.barrier()\n",
    "    qc.cz(3, [0, 2])\n",
    "    qc.cy(3, 4)\n",
    "    qc.barrier()\n",
    "    qc.cz(2, [0, 3])\n",
    "    qc.cy(2, 4)\n",
    "    qc.barrier()\n",
    "    qc.cz(1, 0)\n",
    "    qc.cy(1, 4)\n",
    "    qc.barrier()\n",
    "    qc.cz(0, 3)\n",
    "    qc.cx(0, 4)\n",
    "    qc.barrier()\n",
    "    qc.h(range(4))\n",
    "    qc.z(4)\n",
    "    qc.barrier()\n",
    "#     qc.reverse_bits()\n",
    "    qc.measure(range(4), range(4))\n",
    "    qc.save_density_matrix([4], pershot=True, conditional=True)\n",
    "    return qc\n",
    "\n",
    "qc = get_magic_state_circuit()\n",
    "qc.draw()"
   ]
  },
  {
   "cell_type": "code",
   "execution_count": 151,
   "id": "2d4c3181-4147-4069-949b-a49cde56eba5",
   "metadata": {},
   "outputs": [
    {
     "name": "stdout",
     "output_type": "stream",
     "text": [
      "0j\n",
      "0j\n",
      "0j\n",
      "0j\n",
      "0j\n",
      "0j\n",
      "0j\n",
      "0j\n",
      "0j\n",
      "0j\n"
     ]
    }
   ],
   "source": [
    "for _ in range(10):\n",
    "    backend = StatevectorSimulator()\n",
    "    results = backend.run(qc).result()\n",
    "    psi = results.get_statevector()[15]\n",
    "    if np.nonzero(psi):\n",
    "        print(psi)"
   ]
  },
  {
   "cell_type": "code",
   "execution_count": 152,
   "id": "455777b5-f655-4f95-bb58-839ba36a7e24",
   "metadata": {},
   "outputs": [
    {
     "name": "stdout",
     "output_type": "stream",
     "text": [
      "[ 0.        +0.j          0.        +0.j          0.        +0.j\n",
      " -0.43819446-0.83804706j  0.        +0.j          0.        +0.j\n",
      "  0.        +0.j          0.        +0.j          0.        +0.j\n",
      "  0.        +0.j          0.        +0.j          0.        -0.j\n",
      "  0.        +0.j          0.        +0.j          0.        +0.j\n",
      "  0.        +0.j          0.        +0.j          0.        +0.j\n",
      " -0.        +0.j         -0.32227697+0.04242993j -0.        +0.j\n",
      " -0.        +0.j         -0.        +0.j          0.        +0.j\n",
      " -0.        +0.j         -0.        +0.j          0.        +0.j\n",
      "  0.        +0.j          0.        +0.j          0.        +0.j\n",
      "  0.        +0.j          0.        +0.j        ]\n"
     ]
    }
   ],
   "source": [
    "#00001 10000\n",
    "print(results.get_statevector())"
   ]
  },
  {
   "cell_type": "code",
   "execution_count": 153,
   "id": "1ddc8e31-40ea-432f-bcd0-bcf3dc2cbabf",
   "metadata": {},
   "outputs": [],
   "source": [
    "backend = QasmSimulator(method='density_matrix')\n",
    "results = backend.run(qc, shots=10, memory=True).result()\n",
    "# results.get_counts()\n",
    "# results.get_statevector()"
   ]
  },
  {
   "cell_type": "code",
   "execution_count": 154,
   "id": "9f2befb7-ab82-4729-92b7-9fca3502fab3",
   "metadata": {},
   "outputs": [
    {
     "data": {
      "text/plain": [
       "['01110',\n",
       " '01111',\n",
       " '01111',\n",
       " '01110',\n",
       " '00111',\n",
       " '00011',\n",
       " '00001',\n",
       " '01100',\n",
       " '00001',\n",
       " '00011']"
      ]
     },
     "execution_count": 154,
     "metadata": {},
     "output_type": "execute_result"
    }
   ],
   "source": [
    "results.get_memory()"
   ]
  },
  {
   "cell_type": "code",
   "execution_count": 155,
   "id": "2fb2dfbd-883a-44f0-8fe2-d3127d116a03",
   "metadata": {},
   "outputs": [
    {
     "data": {
      "text/plain": [
       "{'backend_name': 'qasm_simulator',\n",
       " 'backend_version': '0.8.2',\n",
       " 'qobj_id': 'f3d956a0-dc8f-49c4-bf60-5bb87502e418',\n",
       " 'job_id': '4ef95ff4-0f06-4989-a8ee-646fa6269842',\n",
       " 'success': True,\n",
       " 'results': [{'shots': 10,\n",
       "   'success': True,\n",
       "   'data': {'counts': {'0xc': 1,\n",
       "     '0x1': 2,\n",
       "     '0x7': 1,\n",
       "     '0x3': 2,\n",
       "     '0xe': 2,\n",
       "     '0xf': 2},\n",
       "    'memory': ['0xe',\n",
       "     '0xf',\n",
       "     '0xf',\n",
       "     '0xe',\n",
       "     '0x7',\n",
       "     '0x3',\n",
       "     '0x1',\n",
       "     '0xc',\n",
       "     '0x1',\n",
       "     '0x3'],\n",
       "    'density_matrix': {'0x0': [array([[ 0.53207425+3.85185989e-34j, -0.09622435+9.62243545e-02j],\n",
       "             [-0.09622435-9.62243545e-02j,  0.46792575+9.14816724e-34j]]),\n",
       "      array([[ 0.53207425+3.85185989e-34j, -0.09622435+9.62243545e-02j],\n",
       "             [-0.09622435-9.62243545e-02j,  0.46792575+9.14816724e-34j]]),\n",
       "      array([[ 0.53207425+3.85185989e-34j, -0.09622435+9.62243545e-02j],\n",
       "             [-0.09622435-9.62243545e-02j,  0.46792575+9.14816724e-34j]]),\n",
       "      array([[ 0.53207425+3.85185989e-34j, -0.09622435+9.62243545e-02j],\n",
       "             [-0.09622435-9.62243545e-02j,  0.46792575+9.14816724e-34j]]),\n",
       "      array([[ 0.53207425+3.85185989e-34j, -0.09622435+9.62243545e-02j],\n",
       "             [-0.09622435-9.62243545e-02j,  0.46792575+9.14816724e-34j]]),\n",
       "      array([[ 0.53207425+3.85185989e-34j, -0.09622435+9.62243545e-02j],\n",
       "             [-0.09622435-9.62243545e-02j,  0.46792575+9.14816724e-34j]]),\n",
       "      array([[ 0.53207425+3.85185989e-34j, -0.09622435+9.62243545e-02j],\n",
       "             [-0.09622435-9.62243545e-02j,  0.46792575+9.14816724e-34j]]),\n",
       "      array([[ 0.53207425+3.85185989e-34j, -0.09622435+9.62243545e-02j],\n",
       "             [-0.09622435-9.62243545e-02j,  0.46792575+9.14816724e-34j]]),\n",
       "      array([[ 0.53207425+3.85185989e-34j, -0.09622435+9.62243545e-02j],\n",
       "             [-0.09622435-9.62243545e-02j,  0.46792575+9.14816724e-34j]]),\n",
       "      array([[ 0.53207425+3.85185989e-34j, -0.09622435+9.62243545e-02j],\n",
       "             [-0.09622435-9.62243545e-02j,  0.46792575+9.14816724e-34j]])]}},\n",
       "   'meas_level': <MeasLevel.CLASSIFIED: 2>,\n",
       "   'header': {'clbit_labels': [['c', 0],\n",
       "     ['c', 1],\n",
       "     ['c', 2],\n",
       "     ['c', 3],\n",
       "     ['c', 4]],\n",
       "    'creg_sizes': [['c', 5]],\n",
       "    'global_phase': 0.0,\n",
       "    'memory_slots': 5,\n",
       "    'metadata': None,\n",
       "    'n_qubits': 5,\n",
       "    'name': 'circuit-936',\n",
       "    'qreg_sizes': [['q', 5]],\n",
       "    'qubit_labels': [['q', 0], ['q', 1], ['q', 2], ['q', 3], ['q', 4]]},\n",
       "   'status': 'DONE',\n",
       "   'seed_simulator': 3089500189,\n",
       "   'metadata': {'parallel_shots': 10,\n",
       "    'parallel_state_update': 1,\n",
       "    'measure_sampling': True,\n",
       "    'method': 'density_matrix',\n",
       "    'fusion': {'applied': False,\n",
       "     'max_fused_qubits': 5,\n",
       "     'enabled': True,\n",
       "     'threshold': 14}},\n",
       "   'time_taken': 0.0160852}],\n",
       " 'date': '2022-01-29T18:23:01.883809',\n",
       " 'status': 'COMPLETED',\n",
       " 'header': {'backend_name': 'qasm_simulator', 'backend_version': '0.8.2'},\n",
       " 'metadata': {'time_taken': 0.0164101,\n",
       "  'parallel_experiments': 1,\n",
       "  'omp_enabled': True,\n",
       "  'max_gpu_memory_mb': 0,\n",
       "  'num_mpi_processes': 1,\n",
       "  'max_memory_mb': 7954,\n",
       "  'mpi_rank': 0},\n",
       " 'time_taken': 0.017052412033081055}"
      ]
     },
     "execution_count": 155,
     "metadata": {},
     "output_type": "execute_result"
    }
   ],
   "source": [
    "results.to_dict()"
   ]
  },
  {
   "cell_type": "code",
   "execution_count": null,
   "id": "44def463-ae5a-4a2d-98e2-02b376f2facf",
   "metadata": {},
   "outputs": [],
   "source": []
  }
 ],
 "metadata": {
  "kernelspec": {
   "display_name": "Python 3",
   "language": "python",
   "name": "python3"
  },
  "language_info": {
   "codemirror_mode": {
    "name": "ipython",
    "version": 3
   },
   "file_extension": ".py",
   "mimetype": "text/x-python",
   "name": "python",
   "nbconvert_exporter": "python",
   "pygments_lexer": "ipython3",
   "version": "3.9.2"
  }
 },
 "nbformat": 4,
 "nbformat_minor": 5
}
