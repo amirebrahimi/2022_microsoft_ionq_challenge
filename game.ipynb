{
 "cells": [
  {
   "cell_type": "markdown",
   "id": "3573c69c-abe9-4fe1-9ee0-49b4fdafa868",
   "metadata": {},
   "source": [
    "# ⚡⚡⚡ DisTilling Magic: NISQ's Revenge ⚡⚡⚡\n",
    "### _Cover the Bloch Sphere before your T1 runs out! Look out for those coveted T gates!_"
   ]
  },
  {
   "cell_type": "code",
   "execution_count": null,
   "id": "0e06a81f-e949-4ccf-a4cd-029ded7a6b1f",
   "metadata": {},
   "outputs": [],
   "source": [
    "%load_ext autoreload\n",
    "%autoreload 2"
   ]
  },
  {
   "cell_type": "code",
   "execution_count": null,
   "id": "ff87fd97-4157-4316-92be-298c1b5adf1c",
   "metadata": {},
   "outputs": [],
   "source": [
    "from game import Game\n",
    "game = Game()\n",
    "canvas = game.play()\n",
    "canvas"
   ]
  },
  {
   "cell_type": "code",
   "execution_count": null,
   "id": "40a23a65-6a54-4a9b-880c-d1480bca66e0",
   "metadata": {},
   "outputs": [],
   "source": []
  }
 ],
 "metadata": {
  "kernelspec": {
   "display_name": "Python 3",
   "language": "python",
   "name": "python3"
  },
  "language_info": {
   "codemirror_mode": {
    "name": "ipython",
    "version": 3
   },
   "file_extension": ".py",
   "mimetype": "text/x-python",
   "name": "python",
   "nbconvert_exporter": "python",
   "pygments_lexer": "ipython3",
   "version": "3.9.2"
  }
 },
 "nbformat": 4,
 "nbformat_minor": 5
}
