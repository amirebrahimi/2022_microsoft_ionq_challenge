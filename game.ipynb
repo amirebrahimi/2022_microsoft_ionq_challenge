{
 "cells": [
  {
   "cell_type": "code",
   "execution_count": null,
   "id": "0e06a81f-e949-4ccf-a4cd-029ded7a6b1f",
   "metadata": {},
   "outputs": [],
   "source": [
    "%load_ext autoreload\n",
    "%autoreload 2"
   ]
  },
  {
   "cell_type": "code",
   "execution_count": null,
   "id": "ff87fd97-4157-4316-92be-298c1b5adf1c",
   "metadata": {},
   "outputs": [],
   "source": [
    "from game import Game"
   ]
  },
  {
   "cell_type": "code",
   "execution_count": null,
   "id": "709e2ff6-15d6-4b16-9eb6-6fd4fb0d5d77",
   "metadata": {},
   "outputs": [],
   "source": [
    "%matplotlib inline"
   ]
  },
  {
   "cell_type": "code",
   "execution_count": null,
   "id": "5905c3bc-da43-4950-be0c-747c7c4b33e9",
   "metadata": {},
   "outputs": [],
   "source": [
    "game = Game()\n",
    "canvas = game.play()\n",
    "canvas"
   ]
  },
  {
   "cell_type": "code",
   "execution_count": null,
   "id": "25281517-5eb4-483d-aebb-0504aafb73fe",
   "metadata": {},
   "outputs": [],
   "source": [
    "game.covered[:,5] = 1\n",
    "game.covered"
   ]
  },
  {
   "cell_type": "code",
   "execution_count": null,
   "id": "b267d509-85a0-4161-bcc4-4fe28777490b",
   "metadata": {},
   "outputs": [],
   "source": [
    "game.points"
   ]
  },
  {
   "cell_type": "code",
   "execution_count": null,
   "id": "220ff49a-6533-489e-82d7-b37f158dfac9",
   "metadata": {},
   "outputs": [],
   "source": [
    "game.theta"
   ]
  },
  {
   "cell_type": "code",
   "execution_count": null,
   "id": "ffd77e9e-7624-4d4f-8c64-806942e33c91",
   "metadata": {},
   "outputs": [],
   "source": [
    "game.phi"
   ]
  },
  {
   "cell_type": "code",
   "execution_count": null,
   "id": "e22bebaf-69b9-4c31-b336-f7337da1b14d",
   "metadata": {},
   "outputs": [],
   "source": [
    "import numpy as np\n",
    "np.arccos(-1)"
   ]
  },
  {
   "cell_type": "code",
   "execution_count": null,
   "id": "c59dfbe7-2194-4ae3-a450-3a49b4e4c52f",
   "metadata": {},
   "outputs": [],
   "source": [
    "def fibonacci_sphere(samples=1000):\n",
    "\n",
    "    points = []\n",
    "    phi = np.pi * (3. - np.sqrt(5.))  # golden angle in radians\n",
    "\n",
    "    for i in range(samples):\n",
    "        y = 1 - (i / float(samples - 1)) * 2  # y goes from 1 to -1\n",
    "        radius = np.sqrt(1 - y * y)  # radius at y\n",
    "\n",
    "        theta = phi * i  # golden angle increment\n",
    "\n",
    "        x = np.cos(theta) * radius\n",
    "        z = np.sin(theta) * radius\n",
    "\n",
    "        points.append((x, y, z))\n",
    "\n",
    "    return points"
   ]
  },
  {
   "cell_type": "code",
   "execution_count": null,
   "id": "5408f3bd-f8e3-43a4-8b10-e1ea58b0dc2a",
   "metadata": {},
   "outputs": [],
   "source": [
    "from scipy.spatial import Delaunay, ConvexHull\n",
    "points = np.array(fibonacci_sphere(16*16))\n",
    "hull = ConvexHull(points)\n",
    "tri = Delaunay(points)"
   ]
  },
  {
   "cell_type": "code",
   "execution_count": null,
   "id": "7ae42120-a1a4-4c52-b3f8-acc1a0f8a215",
   "metadata": {},
   "outputs": [],
   "source": [
    "import matplotlib.pyplot as plt\n",
    "from matplotlib import cm\n",
    "\n",
    "# def in_hull(p, hull):\n",
    "#     \"\"\"\n",
    "#     Test if points in `p` are in `hull`\n",
    "\n",
    "#     `p` should be a `NxK` coordinates of `N` points in `K` dimensions\n",
    "#     `hull` is either a scipy.spatial.Delaunay object or the `MxK` array of the \n",
    "#     coordinates of `M` points in `K`dimensions for which Delaunay triangulation\n",
    "#     will be computed\n",
    "#     \"\"\"\n",
    "#     from scipy.spatial import Delaunay\n",
    "#     if not isinstance(hull,Delaunay):\n",
    "#         hull = Delaunay(hull)\n",
    "\n",
    "#     return hull.find_simplex(p)>=0\n",
    "\n",
    "# points = np.array(game.points)\n",
    "fig = plt.figure(figsize=(8, 8))\n",
    "ax = fig.add_subplot(111, projection='3d')\n",
    "print(tri.find_simplex([0, 0, 0.97]))\n",
    "print(hull.simplices.shape)\n",
    "c = np.zeros(hull.simplices.shape[0])\n",
    "c[200] = 0.5\n",
    "c[201] = 0.5\n",
    "# ax.plot_wireframe(points[:,0], points[:,1], points[:,2])\n",
    "ax.plot_trisurf(points[:,0], points[:,1], points[:,2], triangles=hull.simplices, array=c, alpha=0.4, edgecolor='white')\n",
    "# plt.plot(points[:,0], points[:,1], 'o')\n",
    "plt.show()"
   ]
  },
  {
   "cell_type": "code",
   "execution_count": null,
   "id": "41396845-34b7-4af1-9faf-618dcf293008",
   "metadata": {},
   "outputs": [],
   "source": [
    "dir(tri)"
   ]
  },
  {
   "cell_type": "code",
   "execution_count": null,
   "id": "093002ca-60c1-4bb8-85f9-5ddc297a7251",
   "metadata": {},
   "outputs": [],
   "source": []
  }
 ],
 "metadata": {
  "kernelspec": {
   "display_name": "Python 3",
   "language": "python",
   "name": "python3"
  },
  "language_info": {
   "codemirror_mode": {
    "name": "ipython",
    "version": 3
   },
   "file_extension": ".py",
   "mimetype": "text/x-python",
   "name": "python",
   "nbconvert_exporter": "python",
   "pygments_lexer": "ipython3",
   "version": "3.9.2"
  }
 },
 "nbformat": 4,
 "nbformat_minor": 5
}
